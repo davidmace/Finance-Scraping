{
 "metadata": {
  "name": "",
  "signature": "sha256:072a9147c6e2301cb40850da038b6430ba7df36c7c2a80c7ada74109adcf837a"
 },
 "nbformat": 3,
 "nbformat_minor": 0,
 "worksheets": [
  {
   "cells": [
    {
     "cell_type": "code",
     "collapsed": false,
     "input": [
      "\"\"\"\n",
      "We want to match news articles with market changes so we need a ton of news articles. Google news is good\n",
      "because it aggregates news based on its own rankings so the news is implicity ranked which should add accuracy/reduce noise.\n",
      "\"\"\""
     ],
     "language": "python",
     "metadata": {},
     "outputs": []
    },
    {
     "cell_type": "code",
     "collapsed": false,
     "input": [
      "regions=['United States','China','Japan','Germany','France','United Kingdom','Brazil','Italy','Russia','Canada','India',\n",
      "         'Australia','Spain','Korea','Mexico','Indonesia','Netherlands','Turkey','Saudi Arabia','Switzerland','Argentina'\n",
      "         ,'Sweden','Poland','Belgium','Norway','Nigeria','Iran','Taiwan','Austria','Thailand','United Arab Emirates',\n",
      "         'Colombia','Venezuela','South Africa','Denmark']"
     ],
     "language": "python",
     "metadata": {},
     "outputs": [],
     "prompt_number": 1
    },
    {
     "cell_type": "code",
     "collapsed": false,
     "input": [
      "#example url\n",
      "day=\"14\"; month=\"1\"; year=\"2015\"; region=\"china\"\n",
      "google_url = \"https://www.google.com/webhp?hl=en&tbm=nws&gl=us&as_occt=any&as_drrb=b&tbs=cdr:1,cd_min:\"+ \\\n",
      "month+\"/\"+day+\"/\"+year+\",cd_max:\"+month+\"/\"+day+\"/\"+year+ \\\n",
      "\"&authuser=0#hl=en&gl=us&as_drrb=b&authuser=0&tbs=\" \\\n",
      "\"cdr:1%2Ccd_min:\"+month+\"%2F\"+day+\"%2F\"+year+\"%2Ccd_max:\"+month+\"%2F\"+day+\"%2F\"+year+\"&tbm=nws&q=\"+region"
     ],
     "language": "python",
     "metadata": {},
     "outputs": [],
     "prompt_number": 2
    },
    {
     "cell_type": "code",
     "collapsed": false,
     "input": [
      "from selenium import webdriver\n",
      "from selenium.webdriver.common.keys import Keys\n",
      "import time\n",
      "import os\n",
      "import re\n",
      "import psycopg2\n",
      "import urllib"
     ],
     "language": "python",
     "metadata": {},
     "outputs": [],
     "prompt_number": 7
    },
    {
     "cell_type": "code",
     "collapsed": false,
     "input": [
      "conn = psycopg2.connect(dbname='postgres', user='david', host='localhost', password='<PASSWORD>', port='5432')\n",
      "cur=conn.cursor()"
     ],
     "language": "python",
     "metadata": {},
     "outputs": [],
     "prompt_number": 4
    },
    {
     "cell_type": "code",
     "collapsed": false,
     "input": [
      "# scrape page of google news results\n",
      "def scrapeBatch(browser,region,day,month,year) :\n",
      "    print region+\" \"+year+\"-\"+month+\"-\"+day\n",
      "    \n",
      "    # build up url for google news\n",
      "    google_url = \"https://www.google.com/webhp?hl=en&tbm=nws&gl=us&as_occt=any&as_drrb=b&tbs=cdr:1,cd_min:\"+ \\\n",
      "    month+\"/\"+day+\"/\"+year+\",cd_max:\"+month+\"/\"+day+\"/\"+year+ \\\n",
      "    \"&authuser=0#hl=en&gl=us&as_drrb=b&authuser=0&tbs=\" \\\n",
      "    \"cdr:1%2Ccd_min:\"+month+\"%2F\"+day+\"%2F\"+year+\"%2Ccd_max:\"+month+\"%2F\"+day+\"%2F\"+year+\"&tbm=nws&q=\"+region\n",
      "    #google_url='https://www.google.com/webhp?hl=en&tbm=nws&gl=us&as_occt=any&as_drrb=b&tbs=cdr:1,cd_min:01/14/2015,cd_max:1/14/2015&authuser=0#hl=en&gl=us&as_drrb=b&authuser=0&tbs=cdr:1%2Ccd_min:01%2F14%2F2015%2Ccd_max:1%2F14%2F2015&tbm=nws&q='+urllib.quote_plus(region)\n",
      "    \n",
      "    browser.get(google_url)\n",
      "    time.sleep(3)\n",
      "    urls=[]\n",
      "    elems=browser.find_elements_by_class_name('_HId')\n",
      "    for i in range(10) :\n",
      "        try :\n",
      "            urls.append( elems[i].get_attribute(\"href\") )\n",
      "        except :\n",
      "            print region+\" \"+str(i)+\" not found\"\n",
      "    \n",
      "    for news_url in urls :\n",
      "        \n",
      "        # parse article text out of the html retrieved\n",
      "        f=os.popen(\"php index.php \"+news_url)\n",
      "        totstring=''\n",
      "        for line in f.readlines():\n",
      "             totstring+=line\n",
      "\n",
      "        # get rid of some tokens we don't want\n",
      "        totstring = re.sub('\\n','', totstring) \n",
      "        totstring = re.sub(r'<.*?>', '', totstring)\n",
      "        totstring = re.sub(r'&nbsp;', ' ', totstring)\n",
      "        totstring = re.sub(r'\\s+', ' ', totstring)\n",
      "\n",
      "        # extract title and body from what the php script returns\n",
      "        s=totstring.find('===') \n",
      "        e=totstring.find('== ',s)\n",
      "        title = totstring[s:e].replace('=','')\n",
      "        title=urllib.quote(title)\n",
      "        \n",
      "        s=totstring.find(' ==',e)\n",
      "        body = totstring[s:].replace('=','')\n",
      "        body=urllib.quote(body)\n",
      "\n",
      "        s=news_url.find('//')+2\n",
      "        e=news_url.find('/',s)\n",
      "        website=news_url[s:e].replace('www.','')\n",
      "        \n",
      "        datetime=year+'-'+month+'-'+day\n",
      "        \n",
      "        # put article text into postgres database\n",
      "        s=\"INSERT INTO articles VALUES (DEFAULT, '{0}', '{1}', '{2}', '{3}', '{4}');\".format(title,body,datetime,region,website)\n",
      "        #s=\"PUT company SET linkedin_id='{0}' WHERE url='{1}'\".format(id,row[0])\n",
      "        cur.execute(s)\n",
      "        conn.commit()  "
     ],
     "language": "python",
     "metadata": {},
     "outputs": [],
     "prompt_number": 9
    },
    {
     "cell_type": "code",
     "collapsed": false,
     "input": [
      "# run batches of scrapes\n",
      "browser = webdriver.Firefox()\n",
      "regions=['Norway','Nigeria','Iran','Taiwan','Austria','Thailand','United Arab Emirates',\n",
      "         'Colombia','Venezuela','South Africa','Denmark']\n",
      "for region in regions :\n",
      "    for day in range(10,15) :\n",
      "        scrapeBatch(browser,region,str(day),'1','2013')"
     ],
     "language": "python",
     "metadata": {},
     "outputs": [
      {
       "output_type": "stream",
       "stream": "stdout",
       "text": [
        "Norway 2013-1-10\n",
        "Norway 2013-1-11"
       ]
      },
      {
       "output_type": "stream",
       "stream": "stdout",
       "text": [
        "\n",
        "Norway 2013-1-12"
       ]
      },
      {
       "output_type": "stream",
       "stream": "stdout",
       "text": [
        "\n",
        "Norway 2013-1-13"
       ]
      },
      {
       "output_type": "stream",
       "stream": "stdout",
       "text": [
        "\n",
        "Norway 2013-1-14"
       ]
      },
      {
       "output_type": "stream",
       "stream": "stdout",
       "text": [
        "\n",
        "Nigeria 2013-1-10"
       ]
      },
      {
       "output_type": "stream",
       "stream": "stdout",
       "text": [
        "\n",
        "Nigeria 2013-1-11"
       ]
      },
      {
       "output_type": "stream",
       "stream": "stdout",
       "text": [
        "\n",
        "Nigeria 2013-1-12"
       ]
      },
      {
       "output_type": "stream",
       "stream": "stdout",
       "text": [
        "\n",
        "Nigeria 2013-1-13"
       ]
      },
      {
       "output_type": "stream",
       "stream": "stdout",
       "text": [
        "\n",
        "Nigeria 2013-1-14"
       ]
      },
      {
       "output_type": "stream",
       "stream": "stdout",
       "text": [
        "\n",
        "Iran 2013-1-10"
       ]
      },
      {
       "output_type": "stream",
       "stream": "stdout",
       "text": [
        "\n",
        "Iran 2013-1-11"
       ]
      },
      {
       "output_type": "stream",
       "stream": "stdout",
       "text": [
        "\n",
        "Iran 2013-1-12"
       ]
      },
      {
       "output_type": "stream",
       "stream": "stdout",
       "text": [
        "\n",
        "Iran 2013-1-13"
       ]
      },
      {
       "output_type": "stream",
       "stream": "stdout",
       "text": [
        "\n",
        "Iran 2013-1-14"
       ]
      },
      {
       "output_type": "stream",
       "stream": "stdout",
       "text": [
        "\n",
        "Taiwan 2013-1-10"
       ]
      },
      {
       "output_type": "stream",
       "stream": "stdout",
       "text": [
        "\n",
        "Taiwan 2013-1-11"
       ]
      },
      {
       "output_type": "stream",
       "stream": "stdout",
       "text": [
        "\n",
        "Taiwan 2013-1-12"
       ]
      },
      {
       "output_type": "stream",
       "stream": "stdout",
       "text": [
        "\n",
        "Taiwan 2013-1-13"
       ]
      },
      {
       "output_type": "stream",
       "stream": "stdout",
       "text": [
        "\n",
        "Taiwan 2013-1-14"
       ]
      },
      {
       "output_type": "stream",
       "stream": "stdout",
       "text": [
        "\n",
        "Austria 2013-1-10"
       ]
      },
      {
       "output_type": "stream",
       "stream": "stdout",
       "text": [
        "\n",
        "Austria 2013-1-11"
       ]
      },
      {
       "output_type": "stream",
       "stream": "stdout",
       "text": [
        "\n",
        "Austria 2013-1-12"
       ]
      },
      {
       "output_type": "stream",
       "stream": "stdout",
       "text": [
        "\n",
        "Austria 2013-1-13"
       ]
      },
      {
       "output_type": "stream",
       "stream": "stdout",
       "text": [
        "\n",
        "Austria 2013-1-14"
       ]
      },
      {
       "output_type": "stream",
       "stream": "stdout",
       "text": [
        "\n",
        "Thailand 2013-1-10"
       ]
      },
      {
       "output_type": "stream",
       "stream": "stdout",
       "text": [
        "\n",
        "Thailand 2013-1-11"
       ]
      },
      {
       "output_type": "stream",
       "stream": "stdout",
       "text": [
        "\n",
        "Thailand 2013-1-12"
       ]
      },
      {
       "output_type": "stream",
       "stream": "stdout",
       "text": [
        "\n",
        "Thailand 2013-1-13"
       ]
      },
      {
       "output_type": "stream",
       "stream": "stdout",
       "text": [
        "\n",
        "Thailand 2013-1-14"
       ]
      },
      {
       "output_type": "stream",
       "stream": "stdout",
       "text": [
        "\n",
        "United Arab Emirates 2013-1-10"
       ]
      },
      {
       "output_type": "stream",
       "stream": "stdout",
       "text": [
        "\n",
        "United Arab Emirates 2013-1-11"
       ]
      },
      {
       "output_type": "stream",
       "stream": "stdout",
       "text": [
        "\n",
        "United Arab Emirates 2013-1-12"
       ]
      },
      {
       "output_type": "stream",
       "stream": "stdout",
       "text": [
        "\n",
        "United Arab Emirates 2013-1-13"
       ]
      },
      {
       "output_type": "stream",
       "stream": "stdout",
       "text": [
        "\n",
        "United Arab Emirates 2013-1-14"
       ]
      },
      {
       "output_type": "stream",
       "stream": "stdout",
       "text": [
        "\n",
        "Colombia 2013-1-10"
       ]
      },
      {
       "output_type": "stream",
       "stream": "stdout",
       "text": [
        "\n",
        "Colombia 2013-1-11"
       ]
      },
      {
       "output_type": "stream",
       "stream": "stdout",
       "text": [
        "\n",
        "Colombia 2013-1-12"
       ]
      },
      {
       "output_type": "stream",
       "stream": "stdout",
       "text": [
        "\n",
        "Colombia 2013-1-13"
       ]
      },
      {
       "output_type": "stream",
       "stream": "stdout",
       "text": [
        "\n",
        "Colombia 2013-1-14"
       ]
      },
      {
       "output_type": "stream",
       "stream": "stdout",
       "text": [
        "\n",
        "Venezuela 2013-1-10"
       ]
      },
      {
       "output_type": "stream",
       "stream": "stdout",
       "text": [
        "\n",
        "Venezuela 2013-1-11"
       ]
      },
      {
       "output_type": "stream",
       "stream": "stdout",
       "text": [
        "\n",
        "Venezuela 2013-1-12"
       ]
      },
      {
       "output_type": "stream",
       "stream": "stdout",
       "text": [
        "\n",
        "Venezuela 2013-1-13"
       ]
      },
      {
       "output_type": "stream",
       "stream": "stdout",
       "text": [
        "\n",
        "Venezuela 2013-1-14"
       ]
      },
      {
       "output_type": "stream",
       "stream": "stdout",
       "text": [
        "\n",
        "South Africa 2013-1-10"
       ]
      },
      {
       "output_type": "stream",
       "stream": "stdout",
       "text": [
        "\n",
        "South Africa 2013-1-11"
       ]
      },
      {
       "output_type": "stream",
       "stream": "stdout",
       "text": [
        "\n",
        "South Africa 2013-1-12"
       ]
      },
      {
       "output_type": "stream",
       "stream": "stdout",
       "text": [
        "\n",
        "South Africa 2013-1-13"
       ]
      },
      {
       "output_type": "stream",
       "stream": "stdout",
       "text": [
        "\n",
        "South Africa 2013-1-14"
       ]
      },
      {
       "output_type": "stream",
       "stream": "stdout",
       "text": [
        "\n",
        "Denmark 2013-1-10"
       ]
      },
      {
       "output_type": "stream",
       "stream": "stdout",
       "text": [
        "\n",
        "Denmark 2013-1-11"
       ]
      },
      {
       "output_type": "stream",
       "stream": "stdout",
       "text": [
        "\n",
        "Denmark 2013-1-12"
       ]
      },
      {
       "output_type": "stream",
       "stream": "stdout",
       "text": [
        "\n",
        "Denmark 2013-1-13"
       ]
      },
      {
       "output_type": "stream",
       "stream": "stdout",
       "text": [
        "\n",
        "Denmark 2013-1-14"
       ]
      },
      {
       "output_type": "stream",
       "stream": "stdout",
       "text": [
        "\n"
       ]
      }
     ],
     "prompt_number": 14
    },
    {
     "cell_type": "code",
     "collapsed": false,
     "input": [],
     "language": "python",
     "metadata": {},
     "outputs": []
    },
    {
     "cell_type": "code",
     "collapsed": false,
     "input": [
      "\n",
      "conn.rollback()"
     ],
     "language": "python",
     "metadata": {},
     "outputs": [],
     "prompt_number": 105
    },
    {
     "cell_type": "code",
     "collapsed": false,
     "input": [
      "title=\"test\"; body=\"body\"; region=\"asdf\"; date='2001-9-28'; website=\"google.com\"\n",
      "cur=conn.cursor()\n",
      "s=\"INSERT INTO articles VALUES (DEFAULT, '{0}', '{1}', '{2}', '{3}', '{4}');\".format(title,body,date,region,website)\n",
      "cur.execute(s)\n",
      "conn.commit()  "
     ],
     "language": "python",
     "metadata": {},
     "outputs": [],
     "prompt_number": 101
    },
    {
     "cell_type": "code",
     "collapsed": false,
     "input": [],
     "language": "python",
     "metadata": {},
     "outputs": []
    },
    {
     "cell_type": "code",
     "collapsed": false,
     "input": [],
     "language": "python",
     "metadata": {},
     "outputs": []
    },
    {
     "cell_type": "code",
     "collapsed": false,
     "input": [],
     "language": "python",
     "metadata": {},
     "outputs": []
    },
    {
     "cell_type": "code",
     "collapsed": false,
     "input": [],
     "language": "python",
     "metadata": {},
     "outputs": []
    },
    {
     "cell_type": "code",
     "collapsed": false,
     "input": [],
     "language": "python",
     "metadata": {},
     "outputs": []
    },
    {
     "cell_type": "code",
     "collapsed": false,
     "input": [
      "for (day,month,year) in times :\n",
      "    for region in regions :\n",
      "        urlsscrapeBatch(region,day,month,year)"
     ],
     "language": "python",
     "metadata": {},
     "outputs": []
    },
    {
     "cell_type": "code",
     "collapsed": false,
     "input": [
      "urls"
     ],
     "language": "python",
     "metadata": {},
     "outputs": [
      {
       "metadata": {},
       "output_type": "pyout",
       "prompt_number": 64,
       "text": [
        "[u'http://www.ibtimes.com/india-will-overtake-china-worlds-fastest-growing-major-economy-2017-world-bank-says-1783446',\n",
        " u'http://qz.com/326265/teslas-electric-dreams-in-china-are-starting-to-flicker/',\n",
        " u'http://www.reuters.com/article/2015/01/15/xiaomi-launch-idUSL3N0UU1SH20150115',\n",
        " u'http://www.cnn.com/2015/01/13/world/asia/china-burqa-ban/',\n",
        " u'http://www.militarytimes.com/story/military/pentagon/2015/01/14/japan-cabinet-oks-record-military-budget-with-eye-on-china/21740391/',\n",
        " u'http://www.telegraph.co.uk/news/worldnews/asia/china/11344272/Xi-Jinping-to-make-state-visit-to-Britain-as-UK-China-ties-warm.html',\n",
        " u'http://www.reuters.com/article/2015/01/14/us-autoshow-gm-outlook-idUSKBN0KN1EY20150114',\n",
        " u'http://www.businessinsider.com/chinese-copper-demand-falls-2015-1',\n",
        " u'http://www.abc.net.au/news/2015-01-14/china-qualifies-for-quarter-finals/6017892',\n",
        " u'http://www.bloomberg.com/news/2015-01-15/uniqlo-maker-vows-to-improve-work-conditions-in-china.html']"
       ]
      }
     ],
     "prompt_number": 64
    },
    {
     "cell_type": "code",
     "collapsed": false,
     "input": [],
     "language": "python",
     "metadata": {},
     "outputs": []
    },
    {
     "cell_type": "code",
     "collapsed": false,
     "input": [],
     "language": "python",
     "metadata": {},
     "outputs": []
    },
    {
     "cell_type": "code",
     "collapsed": false,
     "input": [
      "import urllib\n",
      "from lxml.html import fromstring\n",
      "content = urllib.urlopen(google_url).read()\n",
      "doc = fromstring(content)\n",
      "print content\n",
      "#>>> doc.make_links_absolute(url)\n",
      "doc.find_class('_HId')"
     ],
     "language": "python",
     "metadata": {},
     "outputs": [
      {
       "output_type": "stream",
       "stream": "stdout",
       "text": [
        "<!doctype html><html itemscope=\"\" itemtype=\"http://schema.org/WebPage\" lang=\"en\"><head><meta content=\"Search the world's information, including webpages, images, videos and more. Google has many special features to help you find exactly what you're looking for.\" name=\"description\"><meta content=\"noodp\" name=\"robots\"><meta content=\"/images/google_favicon_128.png\" itemprop=\"image\"><title>Google</title><script>(function(){window.google={kEI:'-l_FVJG3KtH8oASMyoGQCA',kEXPI:'4011559,4017578,4020347,4020562,4021587,4021598,4025744,4025891,4025926,4026005,4028127,4028129,4028467,4028508,8300110,8500393,8500852,10200084,10200095,10200904',authuser:0,kSID:'-l_FVJG3KtH8oASMyoGQCA'};google.kHL='en';})();(function(){google.lc=[];google.li=0;google.getEI=function(a){for(var b;a&&(!a.getAttribute||!(b=a.getAttribute(\"eid\")));)a=a.parentNode;return b||google.kEI};google.https=function(){return\"https:\"==window.location.protocol};google.ml=function(){};google.time=function(){return(new Date).getTime()};google.log=function(a,b,d,e,k){var c=new Image,h=google.lc,f=google.li,g=\"\",l=google.ls||\"\";c.onerror=c.onload=c.onabort=function(){delete h[f]};h[f]=c;d||-1!=b.search(\"&ei=\")||(e=google.getEI(e),g=\"&ei=\"+e,e!=google.kEI&&(g+=\"&lei=\"+google.kEI));a=d||\"/\"+(k||\"gen_204\")+\"?atyp=i&ct=\"+a+\"&cad=\"+b+g+l+\"&zx=\"+google.time();/^http:/i.test(a)&&google.https()?(google.ml(Error(\"a\"),!1,{src:a,glmm:1}),delete h[f]):(c.src=a,google.li=f+1)};google.y={};google.x=function(a,b){google.y[a.id]=[a,b];return!1};google.load=function(a,b,d){google.x({id:a+m++},function(){google.load(a,b,d)})};var m=0;})();google.kCSI={};var _gjwl=location;function _gjuc(){var a=_gjwl.href.indexOf(\"#\");if(0<=a&&(a=_gjwl.href.substring(a),0<a.indexOf(\"&q=\")||0<=a.indexOf(\"#q=\"))&&(a=a.substring(1),-1==a.indexOf(\"#\"))){for(var d=0;d<a.length;){var b=d;\"&\"==a.charAt(b)&&++b;var c=a.indexOf(\"&\",b);-1==c&&(c=a.length);b=a.substring(b,c);if(0==b.indexOf(\"fp=\"))a=a.substring(0,d)+a.substring(c,a.length),c=d;else if(\"cad=h\"==b)return 0;d=c}_gjwl.href=\"/search?\"+a+\"&cad=h\";return 1}return 0}\n",
        "function _gjh(){!_gjuc()&&window.google&&google.x&&google.x({id:\"GJH\"},function(){google.nav&&google.nav.gjh&&google.nav.gjh()})};window._gjh&&_gjh();</script><style>#gbar,#guser{font-size:13px;padding-top:1px !important;}#gbar{height:22px}#guser{padding-bottom:7px !important;text-align:right}.gbh,.gbd{border-top:1px solid #c9d7f1;font-size:1px}.gbh{height:0;position:absolute;top:24px;width:100%}@media all{.gb1{height:22px;margin-right:.5em;vertical-align:top}#gbar{float:left}}a.gb1,a.gb4{text-decoration:underline !important}a.gb1,a.gb4{color:#00c !important}.gbi .gb4{color:#dd8e27 !important}.gbf .gb4{color:#900 !important}</style><style>body,td,a,p,.h{font-family:arial,sans-serif}body{margin:0;overflow-y:scroll}#gog{padding:3px 8px 0}td{line-height:.8em}.gac_m td{line-height:17px}form{margin-bottom:20px}.h{color:#36c}.q{color:#00c}.ts td{padding:0}.ts{border-collapse:collapse}em{font-weight:bold;font-style:normal}.lst{height:25px;width:496px}.gsfi,.lst{font:18px arial,sans-serif}.gsfs{font:17px arial,sans-serif}.ds{display:inline-box;display:inline-block;margin:3px 0 4px;margin-left:4px}input{font-family:inherit}a.gb1,a.gb2,a.gb3,a.gb4{color:#11c !important}body{background:#fff;color:black}a{color:#11c;text-decoration:none}a:hover,a:active{text-decoration:underline}.fl a{color:#36c}a:visited{color:#551a8b}a.gb1,a.gb4{text-decoration:underline}a.gb3:hover{text-decoration:none}#ghead a.gb2:hover{color:#fff !important}.sblc{padding-top:5px}.sblc a{display:block;margin:2px 0;margin-left:13px;font-size:11px}.lsbb{background:#eee;border:solid 1px;border-color:#ccc #999 #999 #ccc;height:30px}.lsbb{display:block}.ftl,#fll a{display:inline-block;margin:0 12px}.lsb{background:url(/images/srpr/nav_logo80.png) 0 -258px repeat-x;border:none;color:#000;cursor:pointer;height:30px;margin:0;outline:0;font:15px arial,sans-serif;vertical-align:top}.lsb:active{background:#ccc}.lst:focus{outline:none}</style><script></script></head><body bgcolor=\"#fff\"><script>(function(){var src='/images/nav_logo176.png';var iesg=false;document.body.onload = function(){window.n && window.n();if (document.images){new Image().src=src;}\n",
        "if (!iesg){document.f&&document.f.q.focus();document.gbqf&&document.gbqf.q.focus();}\n",
        "}\n",
        "})();</script><div id=\"mngb\">   <div id=gbar><nobr><a class=gb1 href=\"https://www.google.com/webhp?hl=en&authuser=0&tab=nw\">Search</a> <a class=gb1 href=\"https://www.google.com/imghp?hl=en&authuser=0&tab=ni\">Images</a> <a class=gb1 href=\"https://maps.google.com/maps?hl=en&authuser=0&tab=nl\">Maps</a> <a class=gb1 href=\"https://play.google.com/?hl=en&authuser=0&tab=n8\">Play</a> <a class=gb1 href=\"https://www.youtube.com/?hl=en&authuser=0&tab=n1\">YouTube</a> <b class=gb1>News</b> <a class=gb1 href=\"https://mail.google.com/mail/?tab=nm\">Gmail</a> <a class=gb1 href=\"https://drive.google.com/?tab=no\">Drive</a> <a class=gb1 style=\"text-decoration:none\" href=\"http://www.google.com/intl/en/options/\"><u>More</u> &raquo;</a></nobr></div><div id=guser width=100%><nobr><span id=gbn class=gbi></span><span id=gbf class=gbf></span><span id=gbe></span><a href=\"http://www.google.com/history/optout?hl=en\" class=gb4>Web History</a> | <a  href=\"/preferences?hl=en\" class=gb4>Settings</a> | <a target=_top id=gb_70 href=\"https://accounts.google.com/ServiceLogin?hl=en&continue=https://www.google.com/webhp%3Fhl%3Den%26tbm%3Dnws%26gl%3Dus%26as_occt%3Dany%26as_drrb%3Db%26tbs%3Dcdr:1,cd_min:01/14/2015,cd_max:1/14/2015%26authuser%3D0\" class=gb4>Sign in</a></nobr></div><div class=gbh style=left:0></div><div class=gbh style=right:0></div>  </div><center><br clear=\"all\" id=\"lgpd\"><div id=\"lga\"><img alt=\"Google\" height=\"95\" src=\"/images/srpr/logo9w.png\" style=\"padding:28px 0 14px\" width=\"269\" id=\"hplogo\" onload=\"window.lol&&lol()\"><br><br></div><form action=\"/search\" name=\"f\"><table cellpadding=\"0\" cellspacing=\"0\"><tr valign=\"top\"><td width=\"25%\">&nbsp;</td><td align=\"center\" nowrap=\"\"><input name=\"tbm\" value=\"nws\" type=\"hidden\"><input name=\"ie\" value=\"ISO-8859-1\" type=\"hidden\"><input value=\"en\" name=\"hl\" type=\"hidden\"><input name=\"source\" type=\"hidden\" value=\"hp\"><div class=\"ds\" style=\"height:32px;margin:4px 0\"><input style=\"color:#000;margin:0;padding:5px 8px 0 6px;vertical-align:top\" autocomplete=\"off\" class=\"lst\" value=\"\" title=\"Google Search\" maxlength=\"2048\" name=\"q\" size=\"57\"></div><br style=\"line-height:0\"><span class=\"ds\"><span class=\"lsbb\"><input class=\"lsb\" value=\"Google Search\" name=\"btnG\" type=\"submit\"></span></span><span class=\"ds\"><span class=\"lsbb\"><input class=\"lsb\" value=\"I'm Feeling Lucky\" name=\"btnI\" onclick=\"if(this.form.q.value)this.checked=1; else top.location='/doodles/'\" type=\"submit\"></span></span></td><td class=\"fl sblc\" align=\"left\" nowrap=\"\" width=\"25%\"><a href=\"/advanced_search?hl=en&amp;authuser=0\">Advanced search</a><a href=\"/language_tools?hl=en&amp;authuser=0\">Language tools</a></td></tr></table><input id=\"gbv\" name=\"gbv\" type=\"hidden\" value=\"1\"></form><div id=\"gac_scont\"></div><div style=\"font-size:83%;min-height:3.5em\"><br></div><span id=\"footer\"><div style=\"font-size:10pt\"><div style=\"margin:19px auto;text-align:center\" id=\"fll\"><a href=\"/intl/en/ads/\">Advertising&nbsp;Programs</a><a href=\"/services/\">Business Solutions</a><a href=\"https://plus.google.com/116899029375914044550\" rel=\"publisher\">+Google</a><a href=\"/intl/en/about.html\">About Google</a></div></div><p style=\"color:#767676;font-size:8pt\">&copy; 2015 - <a href=\"/intl/en/policies/privacy/\">Privacy</a> - <a href=\"/intl/en/policies/terms/\">Terms</a></p></span></center><div id=\"xjsd\"></div><div id=\"xjsi\" data-jiis=\"bp\"><script>(function(){function c(b){window.setTimeout(function(){var a=document.createElement(\"script\");a.src=b;document.getElementById(\"xjsd\").appendChild(a)},0)}google.dljp=function(b,a){google.xjsu=b;c(a)};google.dlj=c;})();(function(){window.google.xjsrm=[];})();if(google.y)google.y.first=[];if(!google.xjs){window._=window._||{};window._._DumpException=function(e){throw e};if(google.timers&&google.timers.load.t){google.timers.load.t.xjsls=new Date().getTime();}google.dljp('/xjs/_/js/k\\x3dxjs.hp.en_US.PZ495sUXhpA.O/m\\x3dsb_he,d/rt\\x3dj/d\\x3d1/t\\x3dzcms/rs\\x3dACT90oHb7zGS7zzaSOgssoQlzeBKEXwe2g','/xjs/_/js/k\\x3dxjs.hp.en_US.PZ495sUXhpA.O/m\\x3dsb_he,d/rt\\x3dj/d\\x3d1/t\\x3dzcms/rs\\x3dACT90oHb7zGS7zzaSOgssoQlzeBKEXwe2g');google.xjs=1;}google.pmc={\"sb_he\":{\"agen\":true,\"cgen\":true,\"client\":\"heirloom-hp\",\"dh\":true,\"ds\":\"n\",\"exp\":\"msedr\",\"fl\":true,\"host\":\"google.com\",\"jam\":0,\"jsonp\":true,\"msgs\":{\"cibl\":\"Clear Search\",\"dym\":\"Did you mean:\",\"lcky\":\"I\\u0026#39;m Feeling Lucky\",\"lml\":\"Learn more\",\"oskt\":\"Input tools\",\"psrc\":\"This search was removed from your \\u003Ca href=\\\"/history\\\"\\u003EWeb History\\u003C/a\\u003E\",\"psrl\":\"Remove\",\"sbit\":\"Search by image\",\"srch\":\"Google Search\"},\"ovr\":{},\"pq\":\"\",\"refoq\":true,\"scd\":10,\"sce\":5,\"stok\":\"4CMndL0s0aM7eXXBhnS0bZ4i9gA\"},\"d\":{}};google.y.first.push(function(){if(google.med){google.med('init');google.initHistory();google.med('history');}});if(google.j&&google.j.en&&google.j.xi){window.setTimeout(google.j.xi,0);}\n",
        "</script></div></body></html>\n"
       ]
      },
      {
       "metadata": {},
       "output_type": "pyout",
       "prompt_number": 58,
       "text": [
        "[]"
       ]
      }
     ],
     "prompt_number": 58
    },
    {
     "cell_type": "code",
     "collapsed": false,
     "input": [],
     "language": "python",
     "metadata": {},
     "outputs": []
    },
    {
     "cell_type": "code",
     "collapsed": false,
     "input": [
      "import os\n",
      "import re\n",
      "f=os.popen(\"php index.php http://qz.com/teslas-electric-dreams-in-china-are-starting-to-flicker/\")\n",
      "totstring=''\n",
      "for line in f.readlines():\n",
      "     totstring+=line\n",
      "        \n",
      "totstring = re.sub('\\n','', totstring) \n",
      "totstring = re.sub(r'<.*?>', '', totstring)\n",
      "totstring = re.sub(r'&nbsp;', ' ', totstring)\n",
      "totstring = re.sub(r'\\s+', ' ', totstring)\n",
      "\n",
      "s=totstring.find('===') \n",
      "e=totstring.find('== ',s)\n",
      "print totstring[s:e]\n",
      "\n",
      "print totstring"
     ],
     "language": "python",
     "metadata": {},
     "outputs": [
      {
       "output_type": "stream",
       "stream": "stdout",
       "text": [
        "\n",
        " ! == Title =====================================Tesla\u2019s electric dreams in China are starting to flicker \u2013Quartz== Body ====================================== Elon Musk has admitted that his plans for turning China into the next big market for his company\u2019s electric cars isn\u2019t going so smoothly. Musk told reporters yesterday Tesla\u2019s sales in China were \u201cunexpectedly weak[1]\u201d during the fourth quarter, without giving specific figures. The reason? \u201cMisperceptions\u201d among Chinese consumers about how to charge the cars, according to Musk. But there are valid concerns that Tesla owners won\u2019t be able to recharge[2] their cars easily in China. Despite the country\u2019s ambitions to promote electric cars in order to reduce air pollution in its overcrowded cities, a lack of charging stations has caused China to lag behind its goal of having 5 million alternative-energy vehicles on the road by 2020. As of the end of 2013[3], China\u2019s state grid had built 19,000 charging piles and 500 charging or battery swap stations for electric vehicles; China Southern Power built fewer, almost 4,000 in the densely-populated Pearl River Delta Region. (The U.S. is home to about 22, 294 charging stations[4], not including private ones.) Tesla, meanwhile, has set up 23 \u201csupercharging\u201d stations[5] of its own in 10 Chinese cities. That\u2019s compared with 124 similar stations in the US and 82 in Europe. Moreover, personal charging stations are hampered by the fact that most of Tesla\u2019s target customers in China live in apartments instead of detached homes\u2014some 74% of urbanites[6] live in multifamily homes\u2014and park their cars in shared garages where parking operators have deemed charging stations a fire hazard[7]. But China isn\u2019t standing still. Beijing just announced a pilot program to turn a set of LED street lamps in the capital into charging stations[8], and has plans to roll out about 10,000 by 2017. A charging system[9] (link in Chinese) for an expressway between Beijing and Shanghai is expected to open up soon, too. For his part, Musk is hopeful that talks with Chinese officials will earn Tesla a place on a list of electric-car makers whose cars are eligible for an exemption of 8% to 10% in sales tax. \u201cWe\u2019ll fix the China issue and be in pretty good shape probably in the middle of the year,\u201d he said[10], hopefully. References ^ unexpectedly weak (www.reuters.com) ^ won\u2019t be able to recharge (www.businessinsider.com) ^ end of 2013 (www.cnbc.com) ^ 22, 294 charging stations (www.afdc.energy.gov) ^ 23 \u201csupercharging\u201d stations (files.shareholder.com) ^ 74% of urbanites (seekingalpha.com) ^ fire hazard (www.bloomberg.com) ^ into charging stations (news.mydrivers.com) ^ charging system (news.xinhuanet.com) ^ he said (www.reuters.com) \n"
       ]
      }
     ],
     "prompt_number": 66
    },
    {
     "cell_type": "code",
     "collapsed": false,
     "input": [
      "import urllib\n",
      "from lxml.html import fromstring"
     ],
     "language": "python",
     "metadata": {},
     "outputs": []
    },
    {
     "cell_type": "code",
     "collapsed": false,
     "input": [
      "f=open('urls.txt','r')\n",
      "for url in f.readlines() :\n",
      "    print 'YOOOOOOOOOOOOOOO '+url\n",
      "    content = urllib.urlopen(url).read()\n",
      "    doc = fromstring(content)\n",
      "    \n",
      "    basestart=url.find('//')+2\n",
      "    baseend=url.find('/',basestart)\n",
      "    urlbase=url[basestart:baseend].replace('www.','')\n",
      "    \n",
      "    location=content_locations[urlbase]\n",
      "    if location[0]=='id' :\n",
      "        article = doc.get_element_by_id(location[1]).text_content()\n",
      "    elif location[0]=='class' :\n",
      "        article = doc.find_class(location[1])[location[2]].text_content()\n",
      "    print article"
     ],
     "language": "python",
     "metadata": {},
     "outputs": [
      {
       "output_type": "stream",
       "stream": "stdout",
       "text": [
        "YOOOOOOOOOOOOOOO http://www.reuters.com/article/2015/01/15/us-xiaomi-launch-idUSKBN0KO0KR20150115\n",
        "\n",
        "\n",
        "\n",
        "\n",
        "BEIJING (Reuters) - China's Xiaomi Inc [XTC.UL] staked its claim to Apple Inc's crown on Thursday as the world's third-biggest smartphone maker and most valuable tech start-up unveiled the flagship Mi Note, its challenger to Apple's iPhone 6 Plus.\n",
        "Chief Executive Lei Jun introduced the Mi Note in Beijing with a breakdown of the large-screen phone's technical features, with multiple comparisons to Apple's equivalent. At 2299 yuan ($371) for a model with 16 gigabytes of memory, the Mi Note will retail for almost two-thirds less than the iPhone 6 Plus.Just three years after Xiaomi sold its first smartphone, a $1.1 billion round of fundraising announced in December valued the firm at $45 billion. The privately held company has risen to become the world's No. 3 smartphone maker and is challenging Apple and Samsung Electronics Co Ltd as well as domestic rivals such as Huawei Technologies Co Ltd [HWT.UL].Xiaomi takes efforts to play down comparisons with Cupertino, California-based Apple, though it is commonly called the 'Apple of China'.\"The Mi Note is shorter, thinner and lighter than the iPhone,\" Lei told his audience of thousands gathered in the north of China's capital.Lei wore a light-blue shirt, eschewing his previously favoured black top, jeans and sneakers, reminiscent of Apple founder Steve Jobs' trademark black turtleneck and jeans.\"Xiaomi is an innovative start-up company, with a short history,\" said Lei. The company has been frequently criticised for allegedly copying other tech companies, most notably Apple. \"In 10 years we will have tens of thousands of patents.\"Lei also laid out Xiaomi's strategy to connect its smartphones with Xiaomi-branded home appliances, allowing phone users to remotely control washing machines, air purifiers and surveillance cameras.\"In five to 10 years all devices will become smart devices,\" he said. \"If every smart device and every device at home can be seamlessly connected to the cloud, what could our life be like? It would be beautiful and easy.\"Xiaomi weathered a decline in overall smartphone sales in China last year to see revenue more than double to 74.3 billion yuan ($11.99 billion) from 2013. .The company sold more than 61 million handsets in 2014, up 227 percent from a year earlier. In China, the world's biggest smartphone market, overall sales fell 8 percent, according to the Ministry of Industry and Information Technology.On Monday, Reuters exclusively reported that Lei and Facebook Inc CEO Mark Zuckerberg discussed a potential investment by Facebook in China's top smartphone maker ahead of last month's fundraising, but a deal never materialised.($1 = 6.1898 Chinese yuan renminbi) (Editing by Christopher Cushing)"
       ]
      },
      {
       "output_type": "stream",
       "stream": "stdout",
       "text": [
        "\n",
        "YOOOOOOOOOOOOOOO http://www.ibtimes.com/india-will-overtake-china-worlds-fastest-growing-major-economy-2017-world-bank-says-1783446\n",
        "\n",
        "\n",
        "        \n",
        "  \n",
        "    \n",
        "          \n",
        "        \n",
        "          \n",
        "          \n",
        "        \n",
        "        Sunday, January 25, 2015 As of 1:26 PM CST\n",
        "      \n",
        "        \n",
        "    \n",
        "    \n",
        "      \n",
        "      \n",
        "    \n",
        "        U.S. Edition\n",
        "    \n",
        "    \n",
        "        \n",
        "    \n",
        "    \n",
        "      Australia Edition\n",
        "China Edition\n",
        "India Edition\n",
        "Italy Edition\n",
        "Japan Edition\n",
        "U.K. Edition\n",
        "U.S. Edition\n",
        "    \n",
        " \n",
        "      Subscribe\n",
        "      \n",
        "  \n",
        "    \n",
        "    \n",
        "    \n",
        "    \n",
        "    | Make IBT your homepage\n",
        "  \n",
        "  \n",
        "    \n",
        "      \n",
        "      \n",
        "      \n",
        "      \n",
        "      \n",
        "    \n",
        "  \n",
        "\n",
        "\n",
        "    \n",
        "    \n",
        "    \n",
        "  \n",
        "    "
       ]
      },
      {
       "output_type": "stream",
       "stream": "stdout",
       "text": [
        "\n",
        "YOOOOOOOOOOOOOOO http://qz.com/326265/teslas-electric-dreams-in-china-are-starting-to-flicker/\n",
        "\n",
        "\n",
        "\t\t\t\n",
        "\t\t\t\t\n",
        "Elon Musk has admitted\u00a0that his plans for turning China into the\u00a0next big market for his company\u2019s electric cars isn\u2019t going so smoothly. Musk told reporters yesterday Tesla\u2019s\u00a0sales in China were \u201cunexpectedly weak\u201d during the fourth quarter, without giving\u00a0specific figures. The reason?\u00a0\u201cMisperceptions\u201d among Chinese consumers about how to charge the\u00a0cars, according to Musk.\n",
        "But there are valid concerns that Tesla owners won\u2019t\u00a0be able to recharge their cars easily\u00a0in China. Despite the country\u2019s ambitions to promote\u00a0electric cars in order to reduce air pollution in its overcrowded cities, a lack of charging stations has caused China to lag behind its goal of having 5 million alternative-energy vehicles on the road by 2020.\n",
        "As of the end of 2013, China\u2019s state grid had built 19,000 charging piles\u00a0and 500 charging or battery swap stations for electric vehicles; China Southern Power built fewer, almost 4,000 in the densely-populated Pearl River Delta Region. (The U.S. is home to about 22, 294 charging stations, not including private ones.) Tesla, meanwhile, has set up 23 \u201csupercharging\u201d stations\u00a0of its own in 10 Chinese cities. That\u2019s compared with 124 similar stations in the US\u00a0and 82 in Europe.\n",
        "Moreover, personal charging stations are hampered by\u00a0the fact that most of Tesla\u2019s target customers in China\u00a0live in apartments instead of detached\u00a0homes\u2014some 74% of urbanites live in multifamily homes\u2014and park their cars in shared garages where parking operators have\u00a0deemed charging stations a fire hazard.\n",
        "But\u00a0China isn\u2019t standing still.\u00a0Beijing just announced a pilot program to turn a set of LED street lamps in the capital into charging stations, and has plans to roll out\u00a0about 10,000 by 2017. A charging system\u00a0(link in Chinese) for an expressway between Beijing and Shanghai is expected to open up soon, too.\n",
        "For his part, Musk is\u00a0hopeful that talks with Chinese officials will earn Tesla a place on a list of electric-car makers whose cars are eligible for an exemption of 8% to 10% in sales\u00a0tax.\u00a0\u201cWe\u2019ll fix the China issue and be in pretty good shape probably in the middle of the year,\u201d\u00a0he said, hopefully.\n",
        "\n",
        "\t\t\t\n",
        "\t\t\t\n",
        "\t\t\t\t\n",
        "\t\t\t\t\t\t\t\n",
        "\t\t\n",
        "\t\t\n",
        "\t\t\n",
        "\t\t\n",
        "\t\t\t\t\n",
        "\t\t\t\t\n",
        "\t\t\t\tShare this:\n",
        "\t\t\t\t\n",
        "\t\t\t\n",
        "\t\t"
       ]
      },
      {
       "output_type": "stream",
       "stream": "stdout",
       "text": [
        "\n",
        "YOOOOOOOOOOOOOOO http://www.cnn.com/2015/01/13/world/asia/china-burqa-ban/\n",
        "\n",
        "Please select your default edition:InternationalU.S.Mexico"
       ]
      },
      {
       "output_type": "stream",
       "stream": "stdout",
       "text": [
        "\n",
        "YOOOOOOOOOOOOOOO http://www.militarytimes.com/story/military/pentagon/2015/01/14/japan-cabinet-oks-record-military-budget-with-eye-on-china/21740391/\n",
        "\n",
        "Please select your default edition:InternationalU.S.Mexico"
       ]
      },
      {
       "output_type": "stream",
       "stream": "stdout",
       "text": [
        "\n",
        "YOOOOOOOOOOOOOOO http://www.reuters.com/article/2015/01/14/us-autoshow-gm-outlook-idUSKBN0KN1EY20150114\n",
        "\n",
        "\n",
        "\n",
        "\n",
        "DETROIT (Reuters) - General Motors Co (GM.N) on Wednesday forecast its 2015 operating profit will increase from last year due mostly to growth in its two largest auto markets, China and the United States.\n",
        "As it moves past a year marred by massive recalls from a defective ignition switch linked to at least 45 deaths, GM said modest growth in global vehicle sales this year would help the largest U.S. automaker post improved results in all of its regions. It provided no specific figures.GM also said it remained on track for 2016 targets, including 10 percent profit margins in North America and a return to profitability in Europe.Last year, Mary Barra's first as chief executive of the Detroit company, GM dealt with the recall of 2.6 million cars due to the faulty switch that led to numerous probes and lawsuits, as well as an overall increase in total recalls from other problems. Barra called 2014 \"a pivotal year\" that GM wants to build on in 2015.GM also affirmed its plan to achieve profit margins of 9 to 10 percent by early next decade, compared with a consolidated margin of 6.4 percent in last year's third quarter, excluding the impact of recalls. GM plans to boost its capital spending plans this year by 20 percent to about $9 billion. More than one-quarter of the vehicles GM sells next year will come from new and refreshed designs, rising to almost half in 2019.GM sees global industry sales rising about 3 percent to 89 million vehicles this year, but heightened competition will allow only moderate increases in its vehicle pricing.GM said Wednesday its worldwide vehicle sales rose 2 percent in 2014 to 9.9 million cars and light trucks, beating the company's previous record set in 2013.Chief Financial Officer Chuck Stevens said GM will not have to add to the $2.7 billion in charges from recalls through the first nine months of last year plus the $400 million to $600 million to establish a compensation fund related to the bad switch. He did not say whether any recall-related charges would be taken in the fourth quarter. Results will be announced on Feb. 4.  In its core U.S. market, GM sees flat market share, flat to slightly lower vehicle pricing and higher profit margins. It sees improved profit and market share in China even as the growth in that market slows and GM's vehicle pricing declines. GM still expects its European operations to return to profitability in 2016 for the first time since 1999 as well as increased market share and improved pricing on its vehicles in the region this year.GM shares ended 2.7 percent lower at $34.30 on Wednesday, amid a broad selloff by investors worried about weak economic growth. (Editing by Jeffrey Benkoe and Matthew Lewis)"
       ]
      },
      {
       "output_type": "stream",
       "stream": "stdout",
       "text": [
        "\n",
        "YOOOOOOOOOOOOOOO http://www.telegraph.co.uk/news/worldnews/asia/china/11344272/Xi-Jinping-to-make-state-visit-to-Britain-as-UK-China-ties-warm.html\n",
        "\n",
        "\r\n",
        "\t\t \r\n",
        "\t\t\r\n",
        "\t\t\r\n",
        "\t\t\t\r\n",
        "\t\t\t\r\n",
        "\t\t\t\t\t\t\tBy Tom Phillips, Shanghai\r\n",
        "\t\t\t\t\t\r\n",
        "\t\t\t\t\t\r\n",
        "\t\t10:00AM GMT 14 Jan 2015\r\n",
        "\t\t \r\n",
        "\t\r\n",
        "\t\r\n",
        "\r\n",
        "\t\r\n",
        "\t\t\t  \t\r\n",
        "\t\t\t\t\t\n",
        "Xi Jinping, the Chinese president, is poised to make a state visit to Britain \n",
        "  later this year as relations between Downing Street and Beijing continue to \n",
        "  thaw following a damaging diplomatic spat. \n",
        "\n",
        "\n",
        "Hugo Swire, the Foreign Office minister, made the announcement on Tuesday \n",
        "  during an appearance at a parliamentary inquiry into Hong Kong's political \n",
        "  transition. \n",
        "\n",
        "\n",
        "The Communist Party chief's visit \u2013 which would be the first of its kind in a \n",
        "  decade \u2013 will follow a trip to China by Prince William, Mr Swire said. \n",
        "\n",
        "\n",
        "The Duke of Cambridge is scheduled to make a three-day tour of Beijing and \n",
        "  Shanghai in February. \n",
        "\n",
        "\n",
        "\"It is going to be an extraordinarily important year this year,\" Mr \n",
        "  Swire told the Foreign Affairs Select Committee, whose members \n",
        "  were barred from visiting Hong Kong last month in the wake of major \n",
        "  street protests there. \n",
        "\r\n",
        "\t\t\tRelated Articles\r\n",
        "\t\r\n",
        "\t\t\t\r\n",
        "\t\r\n",
        "\t\t\t\t\r\n",
        "                                                        \r\n",
        "                    Political 'deep freeze' between Britain and China finally over following Dalai Lama row\n",
        "                \r\n",
        "\r\n",
        "\t25 Jun 2013\r\n",
        "\t\t\t\t\t\t\t\t\t\t\t\t\t\r\n",
        "\t\t\t\t\t\t\t\t\t\t\t\t\r\n",
        "                                                        \r\n",
        "                    Chinese PM demands audience with Queen on visit to Britain\n",
        "                \r\n",
        "\r\n",
        "\t12 Jun 2014\r\n",
        "\t\t\t\t\t\t\t\t\t\t\t\t\t\r\n",
        "\t\t\t\t\t\t\t\t\t\t\t\t\r\n",
        "                                                        \r\n",
        "                    Hong Kong's 'Iron Lady' urges Downing Street to 'pursue' Beijing over ban on British MPs\n",
        "                \r\n",
        "\r\n",
        "\t02 Dec 2014\r\n",
        "\t\t\t\t\t\t\t\t\t\t\t\t\t\r\n",
        "\t\t\t\t\t\t\t\t\t\t\t\t\r\n",
        "                                                        \r\n",
        "                    China tabloid attack hints at Beijing attitude towards 'declining' Britain\n",
        "                \r\n",
        "\r\n",
        "\t18 Jun 2014\r\n",
        "\t\t\t\t\t\t\t\t\t\t\t\t\t\r\n",
        "\t\t\t\t\t\t\t\t\t\t\t\t\r\n",
        "\t\t\t\t\t\t\t\t\t\t\t\t\t\t\t\r\n",
        "                    'Are they in Titanic?' - Chinese struggle to recognise William and Kate\n",
        "                \r\n",
        "\r\n",
        "\t27 Nov 2014\r\n",
        "\t\t\t\t\t\t\t\t\t\t\t\t\t\t \r\n",
        "\t\t\t\t\t\t\t\t\t\t\t\t\t\t\r\n",
        "\t\t\r\n",
        "\t\n",
        "\n",
        "British and Chinese officials did not immediately confirm the visit, although \n",
        "  a Foreign Office spokesperson said: \"We are discussing a possible visit \n",
        "  with the Chinese\". \n",
        "\n",
        "\n",
        "The exact date and details of Xi Jinping's trip have yet to be announced but \n",
        "  state visits normally entail a meeting with the Queen and a visit to \n",
        "  parliament. \n",
        "\n",
        "\n",
        "The last time a Chinese leader was granted such a visit was in November 2005 \n",
        "  when the Queen donned a red dress to welcome Hu Jintao, the former Communist \n",
        "  Party leader. \n",
        "\n",
        "\n",
        "\"It is a relationship of great consequence to us, full of potential and \n",
        "  rich in opportunity for the people of both our countries,\" Her \n",
        "  Majesty said at the time. \n",
        "\n",
        "\n",
        "Relations between Britain and China soured dramatically in May 2012 after \n",
        "  David Cameron met with the Dalai Lama, the exiled Tibetan spiritual leader, \n",
        "  in London. \n",
        "\n",
        "\n",
        "China reacted furiously, imposing an 18-month diplomatic freeze during which \n",
        "  British ministers were snubbed and the Prime Minister was told he was not \n",
        "  welcome in Beijing. \n",
        "\n",
        "\n",
        "However, a truce was publicly declared in December 2013 when Mr Cameron toured \n",
        "  China with a large business delegation. \n",
        "\n",
        "\n",
        "Unprecedented pro-democracy protests in Hong Kong have threatened to derail \n",
        "  the rapprochement in recent months, with activists urging the British \n",
        "  government to speak out over Beijing's failure to grant the former colony \n",
        "  full democracy. \n",
        "\n",
        "\n",
        "However, Downing Street's reluctance to criticise Beijing's handling of the \n",
        "  situation in Hong Kong had helped mend ties, said Chen Zhimin, an \n",
        "  international relations specialist from Shanghai's Fudan University. \n",
        "\n",
        "\n",
        "\"I think Xi's reasons for visiting Britain may be partly due to the fact \n",
        "  that Beijing was not too displeased by the British reaction to the Hong Kong \n",
        "  Occupy Central issue,\" he said. \n",
        "\n",
        "\n",
        "On Tuesday, Hugo Swire told the parliamentary hearing that Beijing's framework \n",
        "  for Hong Kong's 2017 leadership election was \"better than nothing\". \n",
        "\n",
        "Xi Jinping's visit represented a \"major diplomatic coup\" for David \n",
        "  Cameron in an election year, claimed Cui Hongjian, an international \n",
        "  relations expert from the China Institute of International Studies. \n",
        "\n",
        "\n",
        "Shi Zhiqin, a resident scholar at the Carnegie-Tsinghua Center for Global \n",
        "  Policy in Beijing, said the visit would help bring \"more understanding \n",
        "  and respect and mend the frosty relationship after the Dalai Lama diplomatic \n",
        "  freeze\". \n",
        "\n",
        "\n",
        "Relations between China and Britain were now \"relatively stable,\" he \n",
        "  added. \n",
        "\n",
        "\n",
        "Additional reporting Ailin Tang \n",
        "\r\n",
        "\t\t\t   \r\n",
        "\t\t\r\n"
       ]
      },
      {
       "output_type": "stream",
       "stream": "stdout",
       "text": [
        "\n",
        "YOOOOOOOOOOOOOOO http://www.businessinsider.com/chinese-copper-demand-falls-2015-1\n",
        "\n",
        "\n",
        "\t\t\t\n",
        "            \n",
        "Copper prices collapsed Tuesday night, and you can go ahead and blame that on weak demand from the world's largest consumer of the commodity, China.\r\n",
        "In the chart below, courtesy of Bank of America, you can see that China's stockpiles of copper have fallen substantially over the past year, and it is clear based on copper's price that the country isn't buying more to restock.\u00a0\r\n",
        "The Chinese economy is going through a massive slowdown as the government tries to transition from an investment-based economy to a consumption-based economy. That means less building and infrastructure development in general. In this case, that probably also means Chinese copper demand isn't coming back anytime soon.BAML\r\n",
        "NOW WATCH:\u00a0We Did The Math: Should You Buy Or Rent In These Major Cities?\r\n",
        "\n",
        "\t\n",
        "OO.ready(function() { OO.Player.create('ooyalaplayer', 'IwZXRucjqEPxaTQAwrLg8i4P-vCA401l'); });Please enable Javascript to watch this video\n",
        "\r\n",
        "\u00a0\r\n",
        "\n",
        "\n",
        "                \n",
        "        \n",
        "                            \n",
        "                    SEE ALSO:\u00a0\n",
        "                    Commodity Prices Just Crashed To A 12-Year Low\n",
        "                \n",
        "                    \n",
        "    \n",
        "\n",
        "\t\t\t\t\t"
       ]
      },
      {
       "output_type": "stream",
       "stream": "stdout",
       "text": [
        "\n",
        "YOOOOOOOOOOOOOOO http://www.abc.net.au/news/2015-01-14/china-qualifies-for-quarter-finals/6017892\n",
        "\n",
        "\n",
        "    \n",
        "\n",
        "\n",
        "  \n",
        "    \n",
        "  \n",
        "  Email\n",
        "\n",
        "    Asian Cup 2015: China upset Uzbekistan 2-1 to qualify from Group B\n",
        "\n",
        "\n",
        "\n",
        "  \n",
        "    \n",
        "      Updated \n",
        "    \n",
        "      January 14, 2015 22:26:29\n",
        "    \n",
        "    \n",
        "  \n",
        "  \n",
        "\n",
        "\n",
        "    \n",
        "\n",
        "\n",
        "\n",
        "\n",
        "\n",
        "\n",
        "\n",
        "\n",
        "\n",
        "\n",
        "\n",
        "  \n",
        "  \n",
        "  \n",
        "    \n",
        "    \n",
        "    \n",
        "    \n",
        "    \n",
        "    \n",
        "    \n",
        "    \n",
        "    \n",
        "  \n",
        "\n",
        "        Photo:\n",
        "       Sun Ke of China celebrates putting his side into the lead against Uzbekistan. (Getty Images: Bradley Kanaris)\n",
        "      \n",
        "\r\n",
        "      \n",
        "      \n",
        "      \n",
        "        Map: \n",
        "        Brisbane 4000\n",
        "    \n",
        "  \r\n",
        "  China scored twice in 13 minutes to come from behind and upset Uzbekistan 2-1 at the Asian Cup on Wednesday to book itself a spot in the quarter-finals.\r\n",
        "    External Link:\n",
        "\n",
        "Asian Cup China v Uzbekistan\r\n",
        "         China started the tournament as an outsider for the title but after winning its first two Group B matches in dramatic fashion, is now favourite to finish top of its pool with a game to spare.Trailing 1-0 at half-time against the group favourites, China drew level after 55 minutes when Wu Xi scored, then snatched the lead with a spectacular solo strike from substitute Sun Ke.Uzbekistan, who took an early lead through an opportunist goal from Odil Ahmedov, could not find a late equaliser and now face Saudi Arabia in its final group game in Melbourne on Sunday to decide the pool runner-up.The Saudis, beaten 1-0 by China on the weekend, stayed in the hunt for qualification earlier in the day with a 4-1 win over North Korea, who was all but eliminated.Ahmedov gave Uzbekistan the lead after 22 minutes with a goal against the run of play. The central midfielder took a speculative long-range shot from outside the box that took a wicked deflection off the legs of the Chinese defensive midfielder Wu.The Chinese goalkeeper Wang Dalei, who saved a penalty in the win over the Saudis, was helpless to stop the ball from flying into the top corner of the net.Wu made amends by scoring the equaliser in the second half after Jiang Zhipeng's cross from the left floated over the head of Uzbekistan goalkeeper Ignatiy Nesterov, who over-committed, leaving the goal open.Zhang Chengdong and Gao Lin played the ball back in for the unmarked Wu to blast it into the back of the net.Less than a quarter of an hour later, China scored again, when Sun, who had come off the bench a few minutes earlier, got the ball inside the Uzbekistan and dribbled downfield.He got as far as the edge of the box before unleashing a ferocious shot that curled past the outstretched arms of Nesterov and decided the match. Reuters\n",
        "\n",
        "\n",
        "\n",
        "\tTopics:\n",
        "\t\n",
        "\tsoccer,\n",
        "\n",
        "\n",
        "\t\n",
        "\tsport,\n",
        "\n",
        "\n",
        "\t\n",
        "\tbrisbane-4000,\n",
        "\n",
        "\n",
        "\t\n",
        "\tqld,\n",
        "\n",
        "\n",
        "\t\n",
        "\taustralia\n",
        "\t\n",
        "\n",
        "\n",
        "\n",
        "  \n",
        "    First posted \n",
        "    \n",
        "      January 14, 2015 21:50:40\n",
        "    \n",
        "  \n",
        "\n",
        "        \n",
        "          \n",
        "\n",
        "\n",
        "\n",
        "\n",
        "\n",
        "\n",
        "\n",
        "  More\n",
        " stories from Queensland\n",
        "\n",
        "\n",
        "      \n",
        "    \n",
        "  "
       ]
      },
      {
       "output_type": "stream",
       "stream": "stdout",
       "text": [
        "\n",
        "YOOOOOOOOOOOOOOO http://www.bloomberg.com/news/2015-01-15/uniqlo-maker-vows-to-improve-work-conditions-in-china.html\n"
       ]
      },
      {
       "ename": "KeyError",
       "evalue": "'bloomberg.com'",
       "output_type": "pyerr",
       "traceback": [
        "\u001b[0;31m---------------------------------------------------------------------------\u001b[0m\n\u001b[0;31mKeyError\u001b[0m                                  Traceback (most recent call last)",
        "\u001b[0;32m<ipython-input-30-c464569ef1af>\u001b[0m in \u001b[0;36m<module>\u001b[0;34m()\u001b[0m\n\u001b[1;32m      9\u001b[0m     \u001b[0murlbase\u001b[0m\u001b[0;34m=\u001b[0m\u001b[0murl\u001b[0m\u001b[0;34m[\u001b[0m\u001b[0mbasestart\u001b[0m\u001b[0;34m:\u001b[0m\u001b[0mbaseend\u001b[0m\u001b[0;34m]\u001b[0m\u001b[0;34m.\u001b[0m\u001b[0mreplace\u001b[0m\u001b[0;34m(\u001b[0m\u001b[0;34m'www.'\u001b[0m\u001b[0;34m,\u001b[0m\u001b[0;34m''\u001b[0m\u001b[0;34m)\u001b[0m\u001b[0;34m\u001b[0m\u001b[0m\n\u001b[1;32m     10\u001b[0m \u001b[0;34m\u001b[0m\u001b[0m\n\u001b[0;32m---> 11\u001b[0;31m     \u001b[0mlocation\u001b[0m\u001b[0;34m=\u001b[0m\u001b[0mcontent_locations\u001b[0m\u001b[0;34m[\u001b[0m\u001b[0murlbase\u001b[0m\u001b[0;34m]\u001b[0m\u001b[0;34m\u001b[0m\u001b[0m\n\u001b[0m\u001b[1;32m     12\u001b[0m     \u001b[0;32mif\u001b[0m \u001b[0mlocation\u001b[0m\u001b[0;34m[\u001b[0m\u001b[0;36m0\u001b[0m\u001b[0;34m]\u001b[0m\u001b[0;34m==\u001b[0m\u001b[0;34m'id'\u001b[0m \u001b[0;34m:\u001b[0m\u001b[0;34m\u001b[0m\u001b[0m\n\u001b[1;32m     13\u001b[0m         \u001b[0marticle\u001b[0m \u001b[0;34m=\u001b[0m \u001b[0mdoc\u001b[0m\u001b[0;34m.\u001b[0m\u001b[0mget_element_by_id\u001b[0m\u001b[0;34m(\u001b[0m\u001b[0mlocation\u001b[0m\u001b[0;34m[\u001b[0m\u001b[0;36m1\u001b[0m\u001b[0;34m]\u001b[0m\u001b[0;34m)\u001b[0m\u001b[0;34m.\u001b[0m\u001b[0mtext_content\u001b[0m\u001b[0;34m(\u001b[0m\u001b[0;34m)\u001b[0m\u001b[0;34m\u001b[0m\u001b[0m\n",
        "\u001b[0;31mKeyError\u001b[0m: 'bloomberg.com'"
       ]
      }
     ],
     "prompt_number": 30
    },
    {
     "cell_type": "code",
     "collapsed": false,
     "input": [
      "import urllib\n",
      "from lxml.html import fromstring\n",
      "url = 'http://www.reuters.com/article/2015/01/15/us-xiaomi-launch-idUSKBN0KO0KR20150115'\n",
      "content = urllib.urlopen(url).read()\n",
      "doc = fromstring(content)\n",
      "#>>> doc.make_links_absolute(url)\n",
      "doc.get_element_by_id('articleText').text_content()"
     ],
     "language": "python",
     "metadata": {},
     "outputs": [],
     "prompt_number": 7
    },
    {
     "cell_type": "code",
     "collapsed": false,
     "input": [
      "doc.get_element_by_id('articleText').text_content()"
     ],
     "language": "python",
     "metadata": {},
     "outputs": [
      {
       "metadata": {},
       "output_type": "pyout",
       "prompt_number": 9,
       "text": [
        "'\\n\\n\\nBEIJING (Reuters) - China\\'s Xiaomi Inc [XTC.UL] staked its claim to Apple Inc\\'s crown on Thursday as the world\\'s third-biggest smartphone maker and most valuable tech start-up unveiled the flagship Mi Note, its challenger to Apple\\'s iPhone 6 Plus.\\nChief Executive Lei Jun introduced the Mi Note in Beijing with a breakdown of the large-screen phone\\'s technical features, with multiple comparisons to Apple\\'s equivalent. At 2299 yuan ($371) for a model with 16 gigabytes of memory, the Mi Note will retail for almost two-thirds less than the iPhone 6 Plus.Just three years after Xiaomi sold its first smartphone, a $1.1 billion round of fundraising announced in December valued the firm at $45 billion. The privately held company has risen to become the world\\'s No. 3 smartphone maker and is challenging Apple and Samsung Electronics Co Ltd as well as domestic rivals such as Huawei Technologies Co Ltd [HWT.UL].Xiaomi takes efforts to play down comparisons with Cupertino, California-based Apple, though it is commonly called the \\'Apple of China\\'.\"The Mi Note is shorter, thinner and lighter than the iPhone,\" Lei told his audience of thousands gathered in the north of China\\'s capital.Lei wore a light-blue shirt, eschewing his previously favoured black top, jeans and sneakers, reminiscent of Apple founder Steve Jobs\\' trademark black turtleneck and jeans.\"Xiaomi is an innovative start-up company, with a short history,\" said Lei. The company has been frequently criticised for allegedly copying other tech companies, most notably Apple. \"In 10 years we will have tens of thousands of patents.\"Lei also laid out Xiaomi\\'s strategy to connect its smartphones with Xiaomi-branded home appliances, allowing phone users to remotely control washing machines, air purifiers and surveillance cameras.\"In five to 10 years all devices will become smart devices,\" he said. \"If every smart device and every device at home can be seamlessly connected to the cloud, what could our life be like? It would be beautiful and easy.\"Xiaomi weathered a decline in overall smartphone sales in China last year to see revenue more than double to 74.3 billion yuan ($11.99 billion) from 2013. .The company sold more than 61 million handsets in 2014, up 227 percent from a year earlier. In China, the world\\'s biggest smartphone market, overall sales fell 8 percent, according to the Ministry of Industry and Information Technology.On Monday, Reuters exclusively reported that Lei and Facebook Inc CEO Mark Zuckerberg discussed a potential investment by Facebook in China\\'s top smartphone maker ahead of last month\\'s fundraising, but a deal never materialised.($1 = 6.1898 Chinese yuan renminbi) (Editing by Christopher Cushing)'"
       ]
      }
     ],
     "prompt_number": 9
    },
    {
     "cell_type": "code",
     "collapsed": false,
     "input": [
      "def get_text(el, class_name):\n",
      "...     els = el.find_class(class_name)\n",
      "...     if els:\n",
      "...         return els[0].text_content()\n",
      "...     else:\n",
      "...         return ''\n",
      ">>> def get_value(el):\n",
      "...     return get_text(el, 'value') or el.text_content()\n",
      ">>> def get_all_texts(el, class_name):\n",
      "...     return [e.text_content() for e in els.find_class(class_name)]\n",
      ">>> def parse_addresses(el):\n",
      "...     # Ideally this would parse street, etc.\n",
      "...     return el.find_class('adr')"
     ],
     "language": "python",
     "metadata": {},
     "outputs": []
    },
    {
     "cell_type": "code",
     "collapsed": false,
     "input": [
      "from selenium import webdriver\n",
      "from selenium.webdriver.common.keys import Keys\n",
      "import time\n",
      "import psycopg2\n",
      "\n",
      "browser = webdriver.PhantomJS()\n",
      "browser.get('https://www.linkedin.com')\n",
      "browser.find_element_by_name('session_key').send_keys('qweasdzxc1@mailinator.com')\n",
      "browser.find_element_by_name('session_password').send_keys('ghana!' + Keys.RETURN)\n",
      "\n",
      "#driver.find_element_by_id('session_key-login').sendKeys('qweasdzxc1@mailinator.com')\n",
      "#driver.find_element_by_id('session_password-login').sendKeys('ghana!'+Keys.RETURN)\n",
      "time.sleep(3)\n",
      "browser.find_element_by_name('signin').click()\n",
      "time.sleep(1) #assert 'Welcome' in browser.title\n",
      "print browser.title\n",
      "\n",
      "try :\n",
      "  conn = psycopg2.connect(dbname='postgres', user='david', host='localhost', password='ghana!', port='5432')\n",
      "  print 'yo'\n",
      "except :\n",
      "  print \"I am unable to connect to the database\"\n",
      "cur = conn.cursor()\n",
      "cur.execute(\"SELECT url FROM company\")\n",
      "rows = cur.fetchall()\n",
      "\n",
      "for row in rows:\n",
      "\ttry :\n",
      "\t\turl=row[0].replace('%3A',':')\n",
      "\t\tif not 'https://www.linkedin.com/company' in url :\n",
      "\t\t\tcontinue\n",
      "\n",
      "\t\ts=\"select linkedin_id from company where url='{0}'\".format(row[0])\n",
      "\t\tcur.execute(s)\n",
      "\t\tcheckrow = cur.fetchone()\n",
      "\t\tif checkrow[0]!=None :\n",
      "\t\t\tcontinue\n",
      "\n",
      "\t\tprint url\n",
      "\t\tbrowser.get(url)\n",
      "\t\ta = browser.find_element_by_class_name('density').get_attribute('href')\n",
      "\t\tid = a[a.find('f_CC=')+5:a.find('&')]\n",
      "\t\tif a.find('%')>0 :\n",
      "\t\t\tid=id[:id.find('%')]\n",
      "\t\tprint id\n",
      "\n",
      "\t\ts=\"UPDATE company SET linkedin_id='{0}' WHERE url='{1}'\".format(id,row[0])\n",
      "\t\tcur.execute(s)\n",
      "\t\tconn.commit()  \n",
      "\t\ttime.sleep(5)\n",
      "\texcept :\n",
      "\t\tprint 'Error'\n",
      "\n",
      "cur.close()\n",
      "\n",
      "\n"
     ],
     "language": "python",
     "metadata": {},
     "outputs": []
    }
   ],
   "metadata": {}
  }
 ]
}